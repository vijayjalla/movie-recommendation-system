{
  "nbformat": 4,
  "nbformat_minor": 0,
  "metadata": {
    "colab": {
      "provenance": []
    },
    "kernelspec": {
      "name": "python3",
      "display_name": "Python 3"
    },
    "language_info": {
      "name": "python"
    }
  },
  "cells": [
    {
      "cell_type": "code",
      "execution_count": 15,
      "metadata": {
        "id": "s0Vs4QsihZ8C",
        "colab": {
          "base_uri": "https://localhost:8080/"
        },
        "outputId": "365761db-09ec-45af-a0e9-6a13194cddd7"
      },
      "outputs": [
        {
          "output_type": "stream",
          "name": "stdout",
          "text": [
            "Movies recommended for User 2 based on hybrid approach: ['Harry Potter and the Prisoner of Azkaban (2004)', 'The Hunger Games (2012)', 'Mr. Nobody (2009)', 'Old Boy (2003)', 'Get Out (2017)']\n"
          ]
        }
      ],
      "source": [
        "# File: recommendation_system_with_tags.py\n",
        "\n",
        "import pandas as pd\n",
        "from sklearn.model_selection import train_test_split\n",
        "from sklearn.metrics.pairwise import cosine_similarity\n",
        "from sklearn.feature_extraction.text import TfidfVectorizer\n",
        "import numpy as np\n",
        "\n",
        "# Load datasets\n",
        "movies = pd.read_csv('/content/drive/MyDrive/Colab Notebooks/movies.csv')\n",
        "ratings = pd.read_csv('/content/drive/MyDrive/Colab Notebooks/ratings.csv')\n",
        "tags = pd.read_csv('/content/drive/MyDrive/Colab Notebooks/tags.csv')\n",
        "\n",
        "# Merge datasets\n",
        "data = pd.merge(ratings, movies, on='movieId')\n",
        "\n",
        "# Create pivot table for collaborative filtering\n",
        "pivot_table = data.pivot_table(index='userId', columns='title', values='rating')\n",
        "\n",
        "# Normalize ratings\n",
        "pivot_table.fillna(0, inplace=True)\n",
        "user_similarity = cosine_similarity(pivot_table)\n",
        "user_similarity_df = pd.DataFrame(user_similarity, index=pivot_table.index, columns=pivot_table.index)\n",
        "\n",
        "# Combine tags for each movie for content-based filtering\n",
        "tags['tag'] = tags['tag'].fillna('').str.lower()\n",
        "tags_grouped = tags.groupby('movieId')['tag'].apply(lambda x: ' '.join(x)).reset_index()\n",
        "\n",
        "# Merge tags with movies\n",
        "movies_with_tags = pd.merge(movies, tags_grouped, on='movieId', how='left').fillna('')\n",
        "\n",
        "# Generate TF-IDF matrix for movie tags\n",
        "tfidf = TfidfVectorizer(stop_words='english')\n",
        "tfidf_matrix = tfidf.fit_transform(movies_with_tags['tag'])\n",
        "\n",
        "# Compute similarity between movies based on tags\n",
        "movie_similarity = cosine_similarity(tfidf_matrix)\n",
        "movie_similarity_df = pd.DataFrame(movie_similarity, index=movies_with_tags['title'], columns=movies_with_tags['title'])\n",
        "\n",
        "# Hybrid recommendation function\n",
        "def hybrid_recommend_movies(user_id, movie_title=None, n=5):\n",
        "    # Collaborative filtering recommendations\n",
        "    similar_users = user_similarity_df[user_id].sort_values(ascending=False)[1:n+1]\n",
        "    recommended_movies_collab = set()\n",
        "\n",
        "    for similar_user in similar_users.index:\n",
        "        movies_rated = pivot_table.loc[similar_user][pivot_table.loc[similar_user] > 0].index\n",
        "        recommended_movies_collab.update(movies_rated)\n",
        "\n",
        "    # Content-based filtering recommendations\n",
        "    recommended_movies_content = []\n",
        "    if movie_title and movie_title in movie_similarity_df.index:\n",
        "        similar_movies = movie_similarity_df[movie_title].sort_values(ascending=False)[1:n+1]\n",
        "        recommended_movies_content = similar_movies.index.tolist()\n",
        "\n",
        "    # Combine recommendations\n",
        "    hybrid_recommendations = list(recommended_movies_collab)\n",
        "    if recommended_movies_content:\n",
        "        hybrid_recommendations.extend(recommended_movies_content)\n",
        "\n",
        "    return list(set(hybrid_recommendations))[:n]\n",
        "\n",
        "# Example usage\n",
        "user_id = 2\n",
        "movie_title = \"Toy Story (1995)\"  # Optional: Pass a movie title for content-based filtering\n",
        "recommended = hybrid_recommend_movies(user_id, movie_title)\n",
        "print(f\"Movies recommended for User {user_id} based on hybrid approach: {recommended}\")\n"
      ]
    }
  ]
}